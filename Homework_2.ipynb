{
  "nbformat": 4,
  "nbformat_minor": 0,
  "metadata": {
    "colab": {
      "provenance": []
    },
    "kernelspec": {
      "name": "python3",
      "display_name": "Python 3"
    },
    "language_info": {
      "name": "python"
    }
  },
  "cells": [
    {
      "cell_type": "code",
      "execution_count": 5,
      "metadata": {
        "id": "PWmBCced5ZBK"
      },
      "outputs": [],
      "source": [
        "import numpy as np\n",
        "import matplotlib as mpl\n",
        "import matplotlib.pyplot as plot\n",
        "import math\n",
        "%matplotlib inline\n",
        "from numpy import random"
      ]
    },
    {
      "cell_type": "code",
      "source": [
        "def FactorialFun(m,k):\n",
        "  return math.factorial(m)/(math.factorial(k)* math.factorial(m-k))"
      ],
      "metadata": {
        "id": "rnuNTPRm5nSV"
      },
      "execution_count": 6,
      "outputs": []
    },
    {
      "cell_type": "code",
      "source": [
        "def FactorialFun2(m,k):\n",
        "  total = 1.0\n",
        "  for i in range (k):\n",
        "    total = total * (m-i)/(k-i)\n",
        "  return total\n",
        "# they move at the same speed."
      ],
      "metadata": {
        "id": "tXgMJaRa5_VL"
      },
      "execution_count": 7,
      "outputs": []
    },
    {
      "cell_type": "code",
      "source": [
        "print(FactorialFun(1000,100))\n",
        "print(FactorialFun2(1000,100))\n"
      ],
      "metadata": {
        "colab": {
          "base_uri": "https://localhost:8080/"
        },
        "id": "nXnOscqR6DNM",
        "outputId": "63bbf987-ac69-42b0-e890-aaa5f3eea65e"
      },
      "execution_count": 8,
      "outputs": [
        {
          "output_type": "stream",
          "name": "stdout",
          "text": [
            "6.385051192630513e+139\n",
            "6.385051192630514e+139\n"
          ]
        }
      ]
    },
    {
      "cell_type": "code",
      "source": [
        "1.02-(((1.31-1.03)*3.32)/(4.31-3.32))"
      ],
      "metadata": {
        "id": "DQbxQB_j62lb",
        "colab": {
          "base_uri": "https://localhost:8080/"
        },
        "outputId": "20a489ac-7e99-4c3b-971d-2be09263a637"
      },
      "execution_count": 9,
      "outputs": [
        {
          "output_type": "execute_result",
          "data": {
            "text/plain": [
              "0.08101010101010075"
            ]
          },
          "metadata": {},
          "execution_count": 9
        }
      ]
    },
    {
      "cell_type": "code",
      "source": [
        "((1.02*4.31)-(1.31*3.32))/(4.31-3.32)"
      ],
      "metadata": {
        "colab": {
          "base_uri": "https://localhost:8080/"
        },
        "id": "JssXS4ldJEmG",
        "outputId": "c214a3c2-7d50-4fbf-fefa-0b4f9835db80"
      },
      "execution_count": 10,
      "outputs": [
        {
          "output_type": "execute_result",
          "data": {
            "text/plain": [
              "0.04747474747474719"
            ]
          },
          "metadata": {},
          "execution_count": 10
        }
      ]
    },
    {
      "cell_type": "code",
      "source": [
        "x1 = 1.02\n",
        "x2 = 1.31\n",
        "y1 = 3.32\n",
        "y2 = 4.31\n",
        "\n",
        "print(((x1*y2)-(x2*y1))/(y2-y1))\n",
        "print(x1- ((x2-x1)*y1)/(y2-y1))"
      ],
      "metadata": {
        "colab": {
          "base_uri": "https://localhost:8080/"
        },
        "id": "aSuQNQvpLr1C",
        "outputId": "4eb7765e-ac68-4f5a-83d5-2ff2f6bc87c0"
      },
      "execution_count": 11,
      "outputs": [
        {
          "output_type": "stream",
          "name": "stdout",
          "text": [
            "0.04747474747474719\n",
            "0.047474747474747114\n"
          ]
        }
      ]
    },
    {
      "cell_type": "code",
      "source": [],
      "metadata": {
        "id": "Z6GnIAenM4sH"
      },
      "execution_count": 11,
      "outputs": []
    }
  ]
}